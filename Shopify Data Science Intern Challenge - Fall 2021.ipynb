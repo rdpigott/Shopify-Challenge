{
 "cells": [
  {
   "cell_type": "markdown",
   "metadata": {},
   "source": [
    "# Shopify Data Science Intern Challenge - Fall 2021\n",
    "\n",
    "This notebook shows my solutions to the Shopify Data Science Intern Challenge for Fall 2021.\n",
    "\n",
    "All of the libraries that will be necessary for the analysis are imported below."
   ]
  },
  {
   "cell_type": "code",
   "execution_count": 1,
   "metadata": {},
   "outputs": [],
   "source": [
    "import numpy as np\n",
    "import pandas as pd\n",
    "%matplotlib inline\n",
    "import matplotlib.pyplot as plt\n",
    "import seaborn as sns"
   ]
  },
  {
   "cell_type": "markdown",
   "metadata": {},
   "source": [
    "## 1. (a)\n",
    "\n",
    "In this first portion of the analysis, we would like to investigate why the average order value (AOV) for sneaker stores has been calculated at $3145.13 when sneakers are a relatively affordable item. Additionally, we would like to determine a better way for evaluating the AOV.\n",
    "\n",
    "To begin, let's read in the data and do some basic data exploration."
   ]
  },
  {
   "cell_type": "code",
   "execution_count": 2,
   "metadata": {},
   "outputs": [
    {
     "data": {
      "text/html": [
       "<div>\n",
       "<style scoped>\n",
       "    .dataframe tbody tr th:only-of-type {\n",
       "        vertical-align: middle;\n",
       "    }\n",
       "\n",
       "    .dataframe tbody tr th {\n",
       "        vertical-align: top;\n",
       "    }\n",
       "\n",
       "    .dataframe thead th {\n",
       "        text-align: right;\n",
       "    }\n",
       "</style>\n",
       "<table border=\"1\" class=\"dataframe\">\n",
       "  <thead>\n",
       "    <tr style=\"text-align: right;\">\n",
       "      <th></th>\n",
       "      <th>order_id</th>\n",
       "      <th>shop_id</th>\n",
       "      <th>user_id</th>\n",
       "      <th>order_amount</th>\n",
       "      <th>total_items</th>\n",
       "      <th>payment_method</th>\n",
       "      <th>created_at</th>\n",
       "    </tr>\n",
       "  </thead>\n",
       "  <tbody>\n",
       "    <tr>\n",
       "      <th>0</th>\n",
       "      <td>1</td>\n",
       "      <td>53</td>\n",
       "      <td>746</td>\n",
       "      <td>224</td>\n",
       "      <td>2</td>\n",
       "      <td>cash</td>\n",
       "      <td>2017-03-13 12:36:56</td>\n",
       "    </tr>\n",
       "    <tr>\n",
       "      <th>1</th>\n",
       "      <td>2</td>\n",
       "      <td>92</td>\n",
       "      <td>925</td>\n",
       "      <td>90</td>\n",
       "      <td>1</td>\n",
       "      <td>cash</td>\n",
       "      <td>2017-03-03 17:38:52</td>\n",
       "    </tr>\n",
       "    <tr>\n",
       "      <th>2</th>\n",
       "      <td>3</td>\n",
       "      <td>44</td>\n",
       "      <td>861</td>\n",
       "      <td>144</td>\n",
       "      <td>1</td>\n",
       "      <td>cash</td>\n",
       "      <td>2017-03-14 04:23:56</td>\n",
       "    </tr>\n",
       "    <tr>\n",
       "      <th>3</th>\n",
       "      <td>4</td>\n",
       "      <td>18</td>\n",
       "      <td>935</td>\n",
       "      <td>156</td>\n",
       "      <td>1</td>\n",
       "      <td>credit_card</td>\n",
       "      <td>2017-03-26 12:43:37</td>\n",
       "    </tr>\n",
       "    <tr>\n",
       "      <th>4</th>\n",
       "      <td>5</td>\n",
       "      <td>18</td>\n",
       "      <td>883</td>\n",
       "      <td>156</td>\n",
       "      <td>1</td>\n",
       "      <td>credit_card</td>\n",
       "      <td>2017-03-01 04:35:11</td>\n",
       "    </tr>\n",
       "  </tbody>\n",
       "</table>\n",
       "</div>"
      ],
      "text/plain": [
       "   order_id  shop_id  user_id  order_amount  total_items payment_method  \\\n",
       "0         1       53      746           224            2           cash   \n",
       "1         2       92      925            90            1           cash   \n",
       "2         3       44      861           144            1           cash   \n",
       "3         4       18      935           156            1    credit_card   \n",
       "4         5       18      883           156            1    credit_card   \n",
       "\n",
       "           created_at  \n",
       "0 2017-03-13 12:36:56  \n",
       "1 2017-03-03 17:38:52  \n",
       "2 2017-03-14 04:23:56  \n",
       "3 2017-03-26 12:43:37  \n",
       "4 2017-03-01 04:35:11  "
      ]
     },
     "execution_count": 2,
     "metadata": {},
     "output_type": "execute_result"
    }
   ],
   "source": [
    "shops = pd.read_csv('2019 Winter Data Science Intern Challenge Data Set - Sheet1.csv', parse_dates=['created_at'])\n",
    "shops.head()"
   ]
  },
  {
   "cell_type": "code",
   "execution_count": 3,
   "metadata": {},
   "outputs": [
    {
     "name": "stdout",
     "output_type": "stream",
     "text": [
      "<class 'pandas.core.frame.DataFrame'>\n",
      "RangeIndex: 5000 entries, 0 to 4999\n",
      "Data columns (total 7 columns):\n",
      " #   Column          Non-Null Count  Dtype         \n",
      "---  ------          --------------  -----         \n",
      " 0   order_id        5000 non-null   int64         \n",
      " 1   shop_id         5000 non-null   int64         \n",
      " 2   user_id         5000 non-null   int64         \n",
      " 3   order_amount    5000 non-null   int64         \n",
      " 4   total_items     5000 non-null   int64         \n",
      " 5   payment_method  5000 non-null   object        \n",
      " 6   created_at      5000 non-null   datetime64[ns]\n",
      "dtypes: datetime64[ns](1), int64(5), object(1)\n",
      "memory usage: 254.0+ KB\n"
     ]
    }
   ],
   "source": [
    "shops.info()"
   ]
  },
  {
   "cell_type": "markdown",
   "metadata": {},
   "source": [
    "It looks like the dataset is already clean and the columns are fairly easy to understand:\n",
    "* `order_id`: A unique identifier used to reference each transaction.\n",
    "* `shop_id`: A unique identifier used to reference each online shop.\n",
    "* `user_id`: A unique identifier used to reference each online customer. Note: It's not clear whether identical user_ids are the same person between different stores.\n",
    "* `order_amount`: The amount that was spent in a given transaction.\n",
    "* `total_items`: The total number of items purchased in a given transaction.\n",
    "* `payment_method`: The method of payment used.\n",
    "* `created_at`: The time and date when the transaction occured.\n",
    "\n",
    "Before we continue our data exploration, let's confirm that we get the same AOV that was previously calculated."
   ]
  },
  {
   "cell_type": "code",
   "execution_count": 4,
   "metadata": {},
   "outputs": [
    {
     "name": "stdout",
     "output_type": "stream",
     "text": [
      "3145.13\n"
     ]
    }
   ],
   "source": [
    "AOV_mean = round(shops['order_amount'].mean(), 2)\n",
    "print(AOV_mean)"
   ]
  },
  {
   "cell_type": "markdown",
   "metadata": {},
   "source": [
    "Let's also verify that the time period falls within a month, in case a transaction outside of this time range accidentally made its way into the dataset."
   ]
  },
  {
   "cell_type": "code",
   "execution_count": 5,
   "metadata": {},
   "outputs": [
    {
     "name": "stdout",
     "output_type": "stream",
     "text": [
      "29 days 23:47:26\n"
     ]
    }
   ],
   "source": [
    "period = shops['created_at'].max() - shops['created_at'].min()\n",
    "print(period)"
   ]
  },
  {
   "cell_type": "markdown",
   "metadata": {},
   "source": [
    "Excellent. Now the most likely cause of an unexpectedly high average is the inclusion of outliers or anomalous data points within the dataset. To examine whether such points exist in the dataset, we can look at the frequency distribution of the number of items sold per transaction."
   ]
  },
  {
   "cell_type": "code",
   "execution_count": 6,
   "metadata": {},
   "outputs": [],
   "source": [
    "# Count the frequency of occurence for the number of items purchased in a transaction:\n",
    "total_items_counts = shops['total_items'].value_counts()\n",
    "total_items_count = total_items_counts.reset_index()\n",
    "total_items_count.rename(columns={\"index\": \"Number of Items Sold\", \"total_items\": \"Frequency of Occurrence\"}, inplace=True)\n",
    "total_items_count.sort_values('Number of Items Sold', inplace=True)"
   ]
  },
  {
   "cell_type": "code",
   "execution_count": 7,
   "metadata": {},
   "outputs": [
    {
     "data": {
      "text/plain": [
       "Text(0.5, 1.0, 'Frequency Distribution of the Number of Items Sold per Transaction')"
      ]
     },
     "execution_count": 7,
     "metadata": {},
     "output_type": "execute_result"
    },
    {
     "data": {
      "image/png": "[encoded data removed]",
      "text/plain": [
       "<Figure size 720x360 with 1 Axes>"
      ]
     },
     "metadata": {
      "needs_background": "light"
     },
     "output_type": "display_data"
    }
   ],
   "source": [
    "# Plot distribution of frequencies:\n",
    "fig, ax = plt.subplots(figsize=(10,5))\n",
    "ax.bar(x=total_items_count['Number of Items Sold'].astype('str'), height=total_items_count['Frequency of Occurrence'], color='red')\n",
    "ax.set_xlabel('Number of Items Sold')\n",
    "ax.set_ylabel('Frequency of Occurence')\n",
    "ax.set_title('Frequency Distribution of the Number of Items Sold per Transaction')"
   ]
  },
  {
   "cell_type": "markdown",
   "metadata": {},
   "source": [
    "The bar plot above indicates that there may be some anomalies in the data. The critieria that will be used for labelling data points as anomalies will be: a point which falls more than 1.5 times the interquartile range above the third quartile or below the first quartile [https://mathworld.wolfram.com/Outlier.html]. The code below accomplishes this."
   ]
  },
  {
   "cell_type": "code",
   "execution_count": 8,
   "metadata": {},
   "outputs": [],
   "source": [
    "def find_outliers(value, data):\n",
    "    \"\"\"\n",
    "    Determines whether a data point in a series of data is anomalous / an outlier.\n",
    "    \n",
    "    Arguments:\n",
    "    value -- Data point being evaluated.\n",
    "    data -- Data series used to determine if value is an outlier.\n",
    "   \n",
    "    Returns: \n",
    "    outlier -- True/False, True indicating that value is an outlier and False indicating that it is not.\n",
    "    \"\"\"\n",
    "    data = pd.Series(data)\n",
    "    first_quart = data.quantile(0.25)\n",
    "    third_quart = data.quantile(0.75)\n",
    "    interquart_range = third_quart - first_quart\n",
    "    \n",
    "    upper_lim = third_quart + 1.5 * interquart_range\n",
    "    lower_lim = first_quart - 1.5 * interquart_range\n",
    "    \n",
    "    if (value < lower_lim) or (value > upper_lim):\n",
    "        outlier = True\n",
    "    else:\n",
    "        outlier = False\n",
    "        \n",
    "    return outlier"
   ]
  },
  {
   "cell_type": "code",
   "execution_count": 9,
   "metadata": {},
   "outputs": [],
   "source": [
    "item_outliers_mask = shops.apply(lambda x: find_outliers(x['total_items'], shops['total_items']), axis=1)"
   ]
  },
  {
   "cell_type": "code",
   "execution_count": 10,
   "metadata": {},
   "outputs": [
    {
     "name": "stdout",
     "output_type": "stream",
     "text": [
      "There are 18 anomalous data points with regard to number of items purchased per transaction.\n"
     ]
    }
   ],
   "source": [
    "item_anomalies = shops.loc[item_outliers_mask, \"total_items\"].value_counts().sum()\n",
    "print(\"There are \" + str(item_anomalies) + \" anomalous data points with regard to number of items purchased per transaction.\")"
   ]
  },
  {
   "cell_type": "markdown",
   "metadata": {},
   "source": [
    "As suspected, a number of the purchases were labelled as being anomalous. **These anomalous data points are likely to be the cause of the artificially high AOV**. There are two approaches that we can take in re-evaluating the AOV given this scenario: \n",
    "\n",
    "1. We remove the anomalous data from the analysis and re-calculate the AOV based on the remaining dataset. This would be a \"low volume\" AOV.\n",
    "2. Calculate the AOV using the median instead of the mean. This may actually be a more suitable alternative (even if the anamolus data points weren't present) because it indicates the value that separates the upper and lower halves of the distribution. The other benefit to this approach is that we can still use all of the data, instead of removing data points.\n",
    "\n",
    "We will proceed with the second approach given its previously stated advantages."
   ]
  },
  {
   "cell_type": "code",
   "execution_count": 11,
   "metadata": {},
   "outputs": [
    {
     "name": "stdout",
     "output_type": "stream",
     "text": [
      "The median AOV is $284.0.\n"
     ]
    }
   ],
   "source": [
    "AOV_median = shops['order_amount'].median()\n",
    "print(\"The median AOV is $\" + str(AOV_median) + \".\")"
   ]
  },
  {
   "cell_type": "markdown",
   "metadata": {},
   "source": [
    "By taking calculating the **AOV using the median instead of the mean**, we find an AOV of **$284.00** which is more representative of the price of sneakers."
   ]
  },
  {
   "cell_type": "markdown",
   "metadata": {},
   "source": [
    "## 1. (b) & (c)\n",
    "\n",
    "In this part of the analysis, we would like to determine what aggragate metric will best help merchants understand how their businesses are performing when compared to the rest of the market, and to provide values for those metrics. Because the dataset is rich with information, in addition to the newly calculated AOV above, we can create a suite of metrics that can serve this purpose, which include:\n",
    "\n",
    "* Average price per item - tells us what the market value of an item is.\n",
    "* Average repeat customer rate - gives us an indication of how consistent income may be in the future (easier to convert existing customers), as well as the potential market for converting new customers.\n",
    "* Average number of items sold per transaction - provides a baseline as to how many items are typically sold in a transaction.\n",
    "\n",
    "To start, let's take a look at the average price per item. In this case we will consider the average price at the product level, rather than the individual transaction level. We will assume that each store sells a unique product which is different from every other store. Because stores may provide discounts and other offers, the price of an item will be represented as the mean value of all transactions for a given store."
   ]
  },
  {
   "cell_type": "code",
   "execution_count": 12,
   "metadata": {},
   "outputs": [
    {
     "name": "stdout",
     "output_type": "stream",
     "text": [
      "The average (mean) price per item is $407.99.\n"
     ]
    }
   ],
   "source": [
    "shops['price_per_item'] = shops['order_amount'] / shops['total_items']\n",
    "\n",
    "# Extract the item price from each store:\n",
    "item_prices = []\n",
    "for shop in shops['shop_id'].unique():\n",
    "    item_price = shops.loc[shops['shop_id'] == shop, 'price_per_item'].mean()\n",
    "    item_prices.append(float(item_price))\n",
    "    \n",
    "# Use the item prices from each store to calculate the average price of items available:\n",
    "avg_item_price = np.mean(item_prices)\n",
    "print(\"The average (mean) price per item is $\" + str(avg_item_price) + \".\")"
   ]
  },
  {
   "cell_type": "markdown",
   "metadata": {},
   "source": [
    "Although this is not impossible, we do not expect the average price of an item to exceed the AOV, given that the AOV represents aggragated points from transactions with more than one item. Given this unexpected discrepancy, we should take a look at the distribution of item prices to inspect whether there are any anomalous values included in the dataset."
   ]
  },
  {
   "cell_type": "code",
   "execution_count": 13,
   "metadata": {},
   "outputs": [
    {
     "data": {
      "text/plain": [
       "Text(0.5, 1.0, 'Frequency Distribution of Sneaker Prices')"
      ]
     },
     "execution_count": 13,
     "metadata": {},
     "output_type": "execute_result"
    },
    {
     "data": {
      "image/png": "[encoded data removed]",
      "text/plain": [
       "<Figure size 720x360 with 1 Axes>"
      ]
     },
     "metadata": {
      "needs_background": "light"
     },
     "output_type": "display_data"
    }
   ],
   "source": [
    "fig = plt.figure(figsize=(10,5))\n",
    "plt.hist(item_prices)\n",
    "plt.xlabel('Prices')\n",
    "plt.ylabel('Frequency')\n",
    "plt.title('Frequency Distribution of Sneaker Prices')"
   ]
  },
  {
   "cell_type": "markdown",
   "metadata": {},
   "source": [
    "The histogram above indicates that there may be anomalies in this dataset. To confirm this, we can use the `find_outliers` function from 1. (a)."
   ]
  },
  {
   "cell_type": "code",
   "execution_count": 14,
   "metadata": {},
   "outputs": [
    {
     "name": "stdout",
     "output_type": "stream",
     "text": [
      "There are 2 anomalous data points with regard to price of an item.\n"
     ]
    }
   ],
   "source": [
    "item_price_outliers = [find_outliers(x, item_prices) for x in item_prices]\n",
    "item_price_anomalies = pd.Series(item_prices)[item_price_outliers].value_counts().sum()\n",
    "print(\"There are \" + str(item_price_anomalies) + \" anomalous data points with regard to price of an item.\")"
   ]
  },
  {
   "cell_type": "markdown",
   "metadata": {},
   "source": [
    "These two anomalous data points are likely the cause of the high average price of an item. To overcome this inflation effect, we can use the median instead of the mean, like we did with the AOV in 1. (a)."
   ]
  },
  {
   "cell_type": "code",
   "execution_count": 15,
   "metadata": {},
   "outputs": [
    {
     "name": "stdout",
     "output_type": "stream",
     "text": [
      "The average (median) price per item is $153.0.\n"
     ]
    }
   ],
   "source": [
    "med_avg_item_price = np.median(item_prices)\n",
    "print(\"The average (median) price per item is $\" + str(med_avg_item_price) + \".\")"
   ]
  },
  {
   "cell_type": "markdown",
   "metadata": {},
   "source": [
    "The median price of an item is therefore **$153.00**.\n",
    "\n",
    "Next, we will look at the average repeat customer rate. In order to be considered a repeat customer, an individual must make at least two transactions at the same store. In this case, an individual can be considered a repeat customer more than once if they make multiple purchases at different stores. The value calculated will be a macro-average, this way store owners can understand how their RCR compares to other stores, rather than the market as a whole."
   ]
  },
  {
   "cell_type": "code",
   "execution_count": 16,
   "metadata": {
    "scrolled": true
   },
   "outputs": [
    {
     "name": "stderr",
     "output_type": "stream",
     "text": [
      "C:\\Users\\Owner\\anaconda3\\lib\\site-packages\\ipykernel_launcher.py:10: UserWarning: Boolean Series key will be reindexed to match DataFrame index.\n",
      "  # Remove the CWD from sys.path while we load stuff.\n"
     ]
    }
   ],
   "source": [
    "repeat_customer_rates = []\n",
    "for shop in shops['shop_id'].unique():\n",
    "    shop_df = shops[shops['shop_id'] == shop]\n",
    "    repeat_customers = 0\n",
    "    customer_cache = []\n",
    "    for _, row in shop_df.iterrows():\n",
    "        customer = row['user_id']\n",
    "        if customer not in customer_cache:\n",
    "            customer_cache.append(customer)\n",
    "            customer_instances = shop_df[shops['user_id'] == customer].shape[0]\n",
    "            if customer_instances > 1:\n",
    "                repeat_customers += 1\n",
    "    repeat_customer_rate = repeat_customers / shop_df.shape[0]\n",
    "    repeat_customer_rates.append(repeat_customer_rate)"
   ]
  },
  {
   "cell_type": "code",
   "execution_count": 17,
   "metadata": {},
   "outputs": [
    {
     "name": "stdout",
     "output_type": "stream",
     "text": [
      "The macro-average repeat customer rate is 7.05%.\n"
     ]
    }
   ],
   "source": [
    "macro_avg_RCR = round(100*np.mean(repeat_customer_rates), 2)\n",
    "print(\"The macro-average repeat customer rate is \" + str(macro_avg_RCR) + \"%.\")"
   ]
  },
  {
   "cell_type": "markdown",
   "metadata": {},
   "source": [
    "Therefore, the macro-average repeat customer rate is **7.05%**.\n",
    "\n",
    "Finally, we will look at the average number of items sold per transaction. In this case, we are most interested in the number of items that are most frequently purchased. The best method for averaging in this case is to use the mode."
   ]
  },
  {
   "cell_type": "code",
   "execution_count": 18,
   "metadata": {},
   "outputs": [
    {
     "name": "stdout",
     "output_type": "stream",
     "text": [
      "The modal average of items sold per transaction is 2.\n"
     ]
    }
   ],
   "source": [
    "average_items_sold = shops['total_items'].mode()[0]\n",
    "print(\"The modal average of items sold per transaction is \" + str(average_items_sold) + \".\")"
   ]
  },
  {
   "cell_type": "markdown",
   "metadata": {},
   "source": [
    "Therefore, the modal average of items sold per transaction is **2**.\n",
    "\n",
    "A summary of the metrics and corresponding values used to report on this dataset are as follows:\n",
    "\n",
    "* Average Order Value (AOV) (Median): **\\$284.00** \n",
    "* Average Price per Item (Median): **\\$153.00**\n",
    "* Average Repeat Customer Rate (Macro-Average): **7.05%**\n",
    "* Average Items Sold per Transaction (Mode): **2**"
   ]
  },
  {
   "cell_type": "markdown",
   "metadata": {},
   "source": [
    "## 2 (a)\n",
    "\n",
    "`SELECT COUNT(ShipperID) \n",
    "   FROM Orders\n",
    "  WHERE ShipperID = (SELECT ShipperID \n",
    "\t\t\t           FROM Shippers\n",
    "\t\t\t          WHERE ShipperName = \"Speedy Express\");`\n",
    "\n",
    "The number of orders shipped by Speed Express is **54**.\n",
    "\n",
    "## 2 (b)\n",
    "\n",
    "  `SELECT TOP 1 e.LastName\n",
    "     FROM Orders AS o\n",
    "LEFT JOIN Employees AS e ON o.EmployeeID = e.EmployeeID\n",
    " GROUP BY e.LastName\n",
    " ORDER BY COUNT(e.LastName) DESC;`\n",
    "\n",
    "The last name of the employee with the most orders is **Peacock**.\n",
    "\n",
    "## 2 (c)\n",
    "\n",
    " `SELECT TOP 1 p.ProductName \n",
    "    FROM (((OrderDetails AS od\n",
    "\t\t   LEFT JOIN\n",
    "\t\t\t    Orders AS o ON od.OrderID = o.OrderID)\n",
    "\t\t   LEFT JOIN \n",
    "\t\t\t    Products AS p ON od.ProductID = p.ProductID)\n",
    "           LEFT JOIN\n",
    "        \t    Customers AS c ON o.CustomerID = c.CustomerID)\n",
    "   WHERE c.Country = \"Germany\"\n",
    "GROUP BY p.ProductName\n",
    "ORDER BY SUM(od.Quantity) DESC;`\n",
    "\n",
    "The most ordered product from customers in Germany is **Boston Crab Meat**.\n"
   ]
  }
 ],
 "metadata": {
  "kernelspec": {
   "display_name": "Python 3",
   "language": "python",
   "name": "python3"
  },
  "language_info": {
   "codemirror_mode": {
    "name": "ipython",
    "version": 3
   },
   "file_extension": ".py",
   "mimetype": "text/x-python",
   "name": "python",
   "nbconvert_exporter": "python",
   "pygments_lexer": "ipython3",
   "version": "3.7.6"
  }
 },
 "nbformat": 4,
 "nbformat_minor": 4
}
